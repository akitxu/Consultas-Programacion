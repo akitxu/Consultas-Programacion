{
 "cells": [
  {
   "cell_type": "markdown",
   "metadata": {
    "toc": true
   },
   "source": [
    "<h1>Table of Contents<span class=\"tocSkip\"></span></h1>\n",
    "<div class=\"toc\"><ul class=\"toc-item\"></ul></div>"
   ]
  },
  {
   "cell_type": "code",
   "execution_count": null,
   "metadata": {},
   "outputs": [],
   "source": []
  },
  {
   "cell_type": "code",
   "execution_count": null,
   "metadata": {},
   "outputs": [],
   "source": [
    "import numpy as np # importando numpy\n",
    "import pandas as pd # importando pandas\n",
    "import math\n",
    "import os\n",
    "\n",
    "def datos_ventas():\n",
    "    np.random.seed(0)  # seed for reproducibility\n",
    "\n",
    "    data = np.random.randint(1, 99, (52, 6))  # \n",
    "\n",
    "    pd.set_option('precision', 2)\n",
    "    # array de una lista.\n",
    "    lista_ventas = data[:,:].flatten()\n",
    "    # Lista ordenada de datos\n",
    "    lista_ordenada = np.sort(lista_ventas, axis=None)\n",
    "    # df de ventas\n",
    "    df_ventas = pd.DataFrame(data)\n",
    "    # Crear un df de una única columna, con una lista\n",
    "    ventas =  pd.DataFrame(lista_ventas)  \n",
    "    ventas.columns = ([\"Valores\"])\n",
    "    return df_ventas, lista_ventas, lista_ordenada, ventas\n",
    "\n",
    "\"\"\"Número de muestras\"\"\"\n",
    "def calcula_numero_muestras(df):\n",
    "    \"\"\"Número de muestras\"\"\"\n",
    "    M = df.size\n",
    "    print (\"\\nNúmero de muestras M :\\n\", M)\n",
    "    return M\n",
    "\n",
    "\"\"\"Recorrido de la variable\"\"\" \n",
    "def calcula_recorrido (df):\n",
    "    # Variables máxima y mínima\n",
    "    max = df.values.max() \n",
    "    min = df.values.min()\n",
    "    print (\"\\nMáximo valor\", max)\n",
    "    print (\"\\nMínimo valor\", min)    \n",
    "    R =  (max  - min ) \n",
    "    print (\"\\nRecorrido de las variables R :\", R)\n",
    "    return max, min, R\n",
    "\n",
    "\"\"\"Estimación del número de intervalos\"\"\" \n",
    "def estima_numero_intervalos(df):\n",
    "    # Número de muestras M\n",
    "    M = df.size\n",
    "    K = round(1 + 3.322 * math.log10(M) )   \n",
    "    print (\"\\nNúmero óptimo de intervalos K:\", K)\n",
    "    return K\n",
    "    \n",
    "\"\"\"Estimación del Tamaño de los intervalos\"\"\"    \n",
    "def estima_tamaño_intervalos(df):\n",
    "    lim_inf = df.min()\n",
    "    lim_sup = df.max()\n",
    "\n",
    "    \"\"\"Tamaño de los intervalos\"\"\" \n",
    "    C = math.ceil( R/K)\n",
    "    print (\"\\nTamaño de los intervalos C:\",C)\n",
    "    return lim_inf, lim_sup, C\n",
    "    \n",
    "def crea_intervalos(df):\n",
    "    intervals = pd.interval_range( start=min, end=max, freq=C,  name=\"Intervalo\", closed=\"left\")\n",
    "\n",
    "    df_clases = pd.DataFrame(index=intervals)\n",
    "    df_clases[\"Fi\"] = pd.cut(df , bins=df_clases.index).value_counts()\n",
    "    # Media de cada intervalo del índice\n",
    "    df_clases[\"Marca\"]  = df_clases.index.mid\n",
    "\n",
    "    df_clases[\"LimInf\"] = df_clases.index.left\n",
    "    df_clases[\"LimSup\"] = df_clases.index.right\n",
    "    return df_clases\n",
    "        \n",
    "pd.set_option('precision', 2)\n",
    "#personas = datos_personas_familias ()\n",
    "df_ventas, lista_ventas,lista_ordenada, ventas = datos_ventas()\n",
    "M = calcula_numero_muestras(df_ventas)\n",
    "max, min, R = calcula_recorrido (df_ventas)\n",
    "K = estima_numero_intervalos(df_ventas)\n",
    "lim_inf, lim_sup, C = estima_tamaño_intervalos(df_ventas)\n",
    "df_clases = crea_intervalos(ventas[\"Valores\"])\n",
    "df_clases "
   ]
  }
 ],
 "metadata": {
  "hide_input": false,
  "kernelspec": {
   "display_name": "Python 3",
   "language": "python",
   "name": "python3"
  },
  "language_info": {
   "codemirror_mode": {
    "name": "ipython",
    "version": 3
   },
   "file_extension": ".py",
   "mimetype": "text/x-python",
   "name": "python",
   "nbconvert_exporter": "python",
   "pygments_lexer": "ipython3",
   "version": "3.7.7"
  },
  "nbTranslate": {
   "displayLangs": [
    "*"
   ],
   "hotkey": "alt-t",
   "langInMainMenu": true,
   "sourceLang": "en",
   "targetLang": "fr",
   "useGoogleTranslate": true
  },
  "toc": {
   "base_numbering": 1,
   "nav_menu": {},
   "number_sections": true,
   "sideBar": true,
   "skip_h1_title": true,
   "title_cell": "Table of Contents",
   "title_sidebar": "Contents",
   "toc_cell": true,
   "toc_position": {},
   "toc_section_display": true,
   "toc_window_display": true
  }
 },
 "nbformat": 4,
 "nbformat_minor": 4
}
